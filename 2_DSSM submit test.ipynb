{
 "cells": [
  {
   "cell_type": "code",
   "execution_count": null,
   "metadata": {
    "collapsed": true
   },
   "outputs": [],
   "source": [
    "import pandas as pd\n",
    "import pymongo\n",
    "import pprint\n",
    "from collections import Counter\n",
    "import numpy as np\n",
    "from sklearn.neighbors import NearestNeighbors"
   ]
  },
  {
   "cell_type": "code",
   "execution_count": null,
   "metadata": {
    "collapsed": true
   },
   "outputs": [],
   "source": [
    "from pymongo import MongoClient\n",
    "client = MongoClient()"
   ]
  },
  {
   "cell_type": "code",
   "execution_count": null,
   "metadata": {
    "collapsed": true
   },
   "outputs": [],
   "source": [
    "#db = client.hkust\n",
    "db = client.msbd500103"
   ]
  },
  {
   "cell_type": "markdown",
   "metadata": {},
   "source": [
    "### Load Training Data"
   ]
  },
  {
   "cell_type": "code",
   "execution_count": null,
   "metadata": {
    "collapsed": true
   },
   "outputs": [],
   "source": [
    "trData = db.training_record\n",
    "#trData = db.training_record"
   ]
  },
  {
   "cell_type": "code",
   "execution_count": null,
   "metadata": {},
   "outputs": [],
   "source": [
    "trData = trData.find({})\n",
    "trData = list(trData)\n",
    "df_trData = pd.DataFrame(trData)\n",
    "df_trData.head()"
   ]
  },
  {
   "cell_type": "code",
   "execution_count": null,
   "metadata": {
    "collapsed": true
   },
   "outputs": [],
   "source": [
    "df_trData = df_trData[~df_trData['user_gp_frequency'].isnull()]\n",
    "df_trData = df_trData[~df_trData['article_title'].isnull()]"
   ]
  },
  {
   "cell_type": "code",
   "execution_count": null,
   "metadata": {},
   "outputs": [],
   "source": [
    "#sophia remark get the mapping of user article\n",
    "df_ua_map = df_trData[['user_id', 'article_contentid']]\n",
    "df_ua_map.shape"
   ]
  },
  {
   "cell_type": "code",
   "execution_count": null,
   "metadata": {
    "scrolled": true
   },
   "outputs": [],
   "source": [
    "df_ua_map = df_ua_map.drop_duplicates(subset = ['user_id', 'article_contentid'], keep='first')\n",
    "df_ua_map.shape"
   ]
  },
  {
   "cell_type": "markdown",
   "metadata": {},
   "source": [
    "### Load Test User"
   ]
  },
  {
   "cell_type": "code",
   "execution_count": null,
   "metadata": {},
   "outputs": [],
   "source": [
    "tstData = db.test_user\n",
    "tstData = tstData.find({})\n",
    "tstData = list(tstData)\n",
    "df_tstData = pd.DataFrame(tstData)\n",
    "df_tstData.head()"
   ]
  },
  {
   "cell_type": "code",
   "execution_count": null,
   "metadata": {
    "collapsed": true
   },
   "outputs": [],
   "source": [
    "#df_tstData.drop_duplicates(['user_id'])['user_id'].to_csv('data1202/df_tst_user.csv', sep='\\t', encoding='utf-8')\n",
    "#df_tstData.drop_duplicates(['user_id'])[['user_id', 'user_age','user_gender']].to_csv('data1202/df_tst_user_d.csv', sep='\\t', encoding='utf-8')"
   ]
  },
  {
   "cell_type": "code",
   "execution_count": null,
   "metadata": {},
   "outputs": [],
   "source": [
    "df_tstData.drop_duplicates(['user_id']).shape"
   ]
  },
  {
   "cell_type": "markdown",
   "metadata": {},
   "source": [
    "### Prepare User View: df_tr_user vs df_tst_user¶"
   ]
  },
  {
   "cell_type": "code",
   "execution_count": null,
   "metadata": {},
   "outputs": [],
   "source": [
    "df_tr_user = df_trData[['user_id', 'user_age', 'user_gender','user_maxmind_city']]\n",
    "df_tst_user = df_tstData[['user_id', 'user_age', 'user_gender', 'user_maxmind_city']]\n",
    "df_tr_user.head()"
   ]
  },
  {
   "cell_type": "code",
   "execution_count": null,
   "metadata": {},
   "outputs": [],
   "source": [
    "df_tst_user.head()"
   ]
  },
  {
   "cell_type": "code",
   "execution_count": null,
   "metadata": {
    "collapsed": true
   },
   "outputs": [],
   "source": [
    "df_user = pd.concat([df_tr_user, df_tst_user])"
   ]
  },
  {
   "cell_type": "code",
   "execution_count": null,
   "metadata": {},
   "outputs": [],
   "source": [
    "df_user['user_age'] = df_user['user_age'].fillna(0)\n",
    "df_user['user_gender'] = df_user['user_gender'].fillna(0)\n",
    "#df_user['user_brand'] = df_user['user_brand'].str.lower().fillna('na')\n",
    "df_user['user_maxmind_city'] = df_user['user_maxmind_city'].str.lower().fillna('na')\n",
    "#df_user['user_model'] = df_user['user_model'].str.lower().fillna('na')\n",
    "df_user.head()"
   ]
  },
  {
   "cell_type": "code",
   "execution_count": null,
   "metadata": {},
   "outputs": [],
   "source": [
    "df_user = pd.get_dummies(df_user, columns=['user_age', 'user_gender', 'user_maxmind_city'])\n",
    "df_user = df_user.fillna(0)\n",
    "df_user = df_user.drop_duplicates(subset=['user_id'], keep='first')\n",
    "df_user.head()"
   ]
  },
  {
   "cell_type": "code",
   "execution_count": null,
   "metadata": {
    "collapsed": true
   },
   "outputs": [],
   "source": [
    "train_user_id = df_trData.drop_duplicates(subset=['user_id'], keep='first')['user_id'].values\n",
    "test_user_id = df_tstData.drop_duplicates(subset=['user_id'], keep='first')['user_id'].values"
   ]
  },
  {
   "cell_type": "code",
   "execution_count": null,
   "metadata": {},
   "outputs": [],
   "source": [
    "df_user.shape"
   ]
  },
  {
   "cell_type": "code",
   "execution_count": null,
   "metadata": {},
   "outputs": [],
   "source": [
    "df_tr_user = df_user[df_user['user_id'].isin(train_user_id)]\n",
    "df_tr_user.shape"
   ]
  },
  {
   "cell_type": "code",
   "execution_count": null,
   "metadata": {},
   "outputs": [],
   "source": [
    "df_tst_user = df_user[df_user['user_id'].isin(test_user_id)]\n",
    "df_tst_user.shape"
   ]
  },
  {
   "cell_type": "markdown",
   "metadata": {},
   "source": [
    "### Prepare App View"
   ]
  },
  {
   "cell_type": "code",
   "execution_count": null,
   "metadata": {},
   "outputs": [],
   "source": [
    "df_tr_app = df_trData[['user_id', 'user_gp_frequency']]\n",
    "df_tr_app.head()"
   ]
  },
  {
   "cell_type": "code",
   "execution_count": null,
   "metadata": {
    "collapsed": true
   },
   "outputs": [],
   "source": [
    "df_tst_app = df_tstData[['user_id', 'user_gp_frequency']]"
   ]
  },
  {
   "cell_type": "code",
   "execution_count": null,
   "metadata": {},
   "outputs": [],
   "source": [
    "df_tst_na_app = df_tst_app[df_tst_app['user_gp_frequency'].isnull()]\n",
    "df_tst_na_app = df_tst_na_app.drop(['user_gp_frequency'],axis = 1)\n",
    "df_tst_na_app['NOAPP'] = 1\n",
    "df_tst_na_app.shape"
   ]
  },
  {
   "cell_type": "code",
   "execution_count": null,
   "metadata": {
    "collapsed": true
   },
   "outputs": [],
   "source": [
    "df_app = pd.concat([df_tr_app, df_tst_app])\n",
    "df_app = df_app.dropna()"
   ]
  },
  {
   "cell_type": "code",
   "execution_count": null,
   "metadata": {
    "scrolled": true
   },
   "outputs": [],
   "source": [
    "df_app_category = pd.DataFrame.from_records(df_app['user_gp_frequency'].tolist())\n",
    "df_app_category = df_app_category.fillna(0)\n",
    "df_app_category['NOAPP'] = 0\n",
    "df_app_category.head()"
   ]
  },
  {
   "cell_type": "code",
   "execution_count": null,
   "metadata": {},
   "outputs": [],
   "source": [
    "df_app = df_app.merge(df_app_category, how='left', left_index=True, right_index=True)\n",
    "df_app = df_app.drop(['user_gp_frequency'], axis=1)\n",
    "df_app = df_app.drop_duplicates(subset=['user_id'], keep='first')\n",
    "df_app.head()"
   ]
  },
  {
   "cell_type": "code",
   "execution_count": null,
   "metadata": {},
   "outputs": [],
   "source": [
    "df_app = pd.concat([df_app, df_tst_na_app])\n",
    "df_app.head()\n"
   ]
  },
  {
   "cell_type": "code",
   "execution_count": null,
   "metadata": {
    "collapsed": true
   },
   "outputs": [],
   "source": [
    "def sumCat(row):\n",
    "    l = row.tolist()\n",
    "    #print l\n",
    "    row['totalCat'] = sum(l[1:])\n",
    "    return row"
   ]
  },
  {
   "cell_type": "code",
   "execution_count": null,
   "metadata": {
    "collapsed": true
   },
   "outputs": [],
   "source": [
    "df_app1 = df_app.drop(['user_id'], axis = 1).apply(lambda row: sumCat(row), axis = 1)\n",
    "df_app1 = df_app[['user_id']].merge(df_app1, how = 'left', left_index=True, right_index=True)\n",
    "df_app2 = df_app1[df_app1['totalCat'] != 0].drop(['totalCat'], axis = 1)"
   ]
  },
  {
   "cell_type": "code",
   "execution_count": null,
   "metadata": {},
   "outputs": [],
   "source": [
    "df_app2.shape"
   ]
  },
  {
   "cell_type": "code",
   "execution_count": null,
   "metadata": {
    "collapsed": true
   },
   "outputs": [],
   "source": [
    "df_app2 = df_app2.drop_duplicates(subset=['user_id'], keep='first')"
   ]
  },
  {
   "cell_type": "code",
   "execution_count": null,
   "metadata": {},
   "outputs": [],
   "source": [
    "df_app2.shape"
   ]
  },
  {
   "cell_type": "code",
   "execution_count": null,
   "metadata": {},
   "outputs": [],
   "source": [
    "df_app2.head()"
   ]
  },
  {
   "cell_type": "code",
   "execution_count": null,
   "metadata": {},
   "outputs": [],
   "source": [
    "app_category = df_app.drop(['user_id'], axis = 1).columns\n",
    "app_category"
   ]
  },
  {
   "cell_type": "markdown",
   "metadata": {},
   "source": [
    "## Merge user and app"
   ]
  },
  {
   "cell_type": "code",
   "execution_count": null,
   "metadata": {},
   "outputs": [],
   "source": [
    "df_tr_user.shape, df_app2.shape"
   ]
  },
  {
   "cell_type": "code",
   "execution_count": null,
   "metadata": {},
   "outputs": [],
   "source": [
    "df_tr_user_app = df_tr_user.merge(df_app2, how = 'left', on = 'user_id')\n",
    "df_tr_user_app = df_tr_user_app.fillna(0) #change from fillna(0) to fillna(0.1)\n",
    "df_tr_user_app.head()"
   ]
  },
  {
   "cell_type": "code",
   "execution_count": null,
   "metadata": {},
   "outputs": [],
   "source": [
    "df_tst_user_app = df_tst_user.merge(df_app2, how='left',on='user_id')\n",
    "df_tr_user_app = df_tr_user_app.fillna(0)\n",
    "df_tr_user_app.head()"
   ]
  },
  {
   "cell_type": "raw",
   "metadata": {},
   "source": [
    "df_group = df_user_app.groupby(by=list([i for i in df_user_app.columns if i != 'user_id'])).agg({'user_id':'nunique'}).reset_index()\n",
    "df_group = df_group.sort_values(by='user_id', ascending=False)\n",
    "df_group.head()"
   ]
  },
  {
   "cell_type": "raw",
   "metadata": {},
   "source": [
    "[i for i in range(0, len(df_group.iloc[0])) if df_group.iloc[0][i] > 0.1]"
   ]
  },
  {
   "cell_type": "raw",
   "metadata": {},
   "source": [
    "df_group.columns[[0, 5, 36, 1434, 2412]]"
   ]
  },
  {
   "cell_type": "raw",
   "metadata": {},
   "source": [
    "df_user_app[(df_user_app['user_age_0.0'] == 1) & (df_user_app['user_gender_0.0'] == 1) \\\n",
    "            & (df_user_app['user_brand_samsung'] == 1) & (df_user_app['user_maxmind_city_na'] == 1)\\\n",
    "            & (df_user_app['PHOTOGRAPHY'] == 0.1) & (df_user_app['TOOLS'] == 0.1) \\\n",
    "            & (df_user_app['PRODUCTIVITY'] == 0.1) & (df_user_app['SOCIAL'] == 0.1)\\\n",
    "           & (df_user_app['SHOPPING'] == 0.1) & (df_user_app['TRAVEL_AND_LOCAL'] == 0.1)\\\n",
    "                                                & (df_user_app['WEATHER'] == 0.1)]['user_id'].tolist()"
   ]
  },
  {
   "cell_type": "raw",
   "metadata": {},
   "source": [
    "[i for i in df_trData.columns if 'user_' in i]"
   ]
  },
  {
   "cell_type": "raw",
   "metadata": {},
   "source": [
    "df_trData[df_trData['user_id'].isin(\n",
    "    [u'DAF29D87173A64295B171D25BDFAF8A6',\n",
    " u'8D6522309FCCECA085E436BD51A34506',\n",
    " u'1F9074700BFEE2863BE8F057DA0D61BE',\n",
    " u'5C22FCB556340CF467CCB04C04C111CC',\n",
    " u'F589CABCE692B53483F57CB0B13D998C',\n",
    " u'8AEA6F3114B82E5A1D87C1787AB9064B',\n",
    " u'6F991CB77F007DAE5203B6681D8C44F8',\n",
    " u'C4E41C1AA8080266F1036AB7C4F92431',\n",
    " u'79898FA62AEC1BE10A00A1190B27384B',\n",
    " u'4C9E43830F042D61D6AAB4072DB693DF',\n",
    " u'7C5146AFFC0A433D39341E0E073E68B1'])][[i for i in df_trData.columns if 'user_' in i]]"
   ]
  },
  {
   "cell_type": "markdown",
   "metadata": {},
   "source": [
    "### Load Test Article"
   ]
  },
  {
   "cell_type": "code",
   "execution_count": null,
   "metadata": {
    "scrolled": true
   },
   "outputs": [],
   "source": [
    "tstArt = db.test_article\n",
    "tstArt = tstArt.find({})\n",
    "tstArt = list(tstArt)\n",
    "df_tstArt = pd.DataFrame(tstArt)\n",
    "df_tstArt.head()"
   ]
  },
  {
   "cell_type": "code",
   "execution_count": null,
   "metadata": {
    "collapsed": true
   },
   "outputs": [],
   "source": [
    "#df_tstArt.drop_duplicates(['article_contentid'])['article_contentid'].to_csv('data1202/df_tst_art.csv', sep = '\\t', encoding='utf-8')\n",
    "df_tstArt.drop_duplicates(['article_contentid'])[['article_contentid','article_publisher','article_update_time']].to_csv('data1202/df_tst_art_1.csv', sep = '\\t', encoding='utf-8')"
   ]
  },
  {
   "cell_type": "code",
   "execution_count": null,
   "metadata": {
    "collapsed": true
   },
   "outputs": [],
   "source": []
  },
  {
   "cell_type": "markdown",
   "metadata": {},
   "source": [
    "### Prepare Article View"
   ]
  },
  {
   "cell_type": "code",
   "execution_count": null,
   "metadata": {},
   "outputs": [],
   "source": [
    "df_tr_article = df_trData[['user_id', 'article_contentid', 'article_l1_categories', 'article_l2_categories', 'article_title', 'dt']]#sophia remark : should add article_update_time as a feature\n",
    "df_tr_article = df_tr_article.sort_values(by=['article_title'], ascending=False)\n",
    "df_tr_article.head()"
   ]
  },
  {
   "cell_type": "code",
   "execution_count": null,
   "metadata": {
    "collapsed": true
   },
   "outputs": [],
   "source": [
    "from sklearn import preprocessing\n",
    "#Create x, where x the 'scores' column's values as floats\n",
    "y = df_tr_article['dt'].values.astype(float)\n",
    "y = y.reshape(-1,1)\n",
    "# Create a minimum and maximum processor object\n",
    "min_max_scaler = preprocessing.MinMaxScaler()\n",
    "\n",
    "# Create an object to transform the data to fit minmax processor\n",
    "y_scaled = min_max_scaler.fit_transform(y)\n",
    "y_scaled\n",
    "# Run the normalizer on the dataframe\n",
    "df_tr_article['dt'] = y_scaled"
   ]
  },
  {
   "cell_type": "code",
   "execution_count": null,
   "metadata": {},
   "outputs": [],
   "source": [
    "df_tst_article = df_tstArt[['article_contentid', 'article_l1_categories', 'article_l2_categories', 'article_title']]#sophia remark : should add article_update_time as a feature\n",
    "df_tst_article = df_tst_article.sort_values(by=['article_title'], ascending=False)\n",
    "df_tst_article = df_tst_article.drop_duplicates(['article_contentid'])\n",
    "df_tst_article.head()"
   ]
  },
  {
   "cell_type": "code",
   "execution_count": null,
   "metadata": {},
   "outputs": [],
   "source": [
    "df_tst_article.shape"
   ]
  },
  {
   "cell_type": "code",
   "execution_count": null,
   "metadata": {},
   "outputs": [],
   "source": [
    "df_article_temp = df_tr_article[['article_contentid', 'dt']].drop_duplicates(['article_contentid'])\n",
    "\n",
    "df_tst_article = df_tst_article.merge(df_article_temp[['article_contentid', 'dt']], how = 'left', on = 'article_contentid')\n",
    "df_tst_article.head()"
   ]
  },
  {
   "cell_type": "code",
   "execution_count": null,
   "metadata": {},
   "outputs": [],
   "source": [
    "df_tst_article['dt'] = df_tst_article['dt'].fillna(1)\n",
    "df_tst_article.head()"
   ]
  },
  {
   "cell_type": "code",
   "execution_count": null,
   "metadata": {},
   "outputs": [],
   "source": [
    "df_tst_article.shape"
   ]
  },
  {
   "cell_type": "code",
   "execution_count": null,
   "metadata": {
    "collapsed": true
   },
   "outputs": [],
   "source": [
    "df_tst_article['user_id'] = 'na'"
   ]
  },
  {
   "cell_type": "code",
   "execution_count": null,
   "metadata": {
    "collapsed": true
   },
   "outputs": [],
   "source": [
    "#df_tst_article.head()"
   ]
  },
  {
   "cell_type": "code",
   "execution_count": null,
   "metadata": {
    "collapsed": true
   },
   "outputs": [],
   "source": [
    "tst_article_list = df_tst_article['article_contentid'].values"
   ]
  },
  {
   "cell_type": "code",
   "execution_count": null,
   "metadata": {},
   "outputs": [],
   "source": [
    "df_tr_article = df_tr_article.drop_duplicates(subset=['article_contentid'], keep='first')\n",
    "df_tr_article = df_tr_article.reset_index(drop = True)\n",
    "df_tr_article.head()"
   ]
  },
  {
   "cell_type": "code",
   "execution_count": null,
   "metadata": {},
   "outputs": [],
   "source": [
    "df_tr_article.shape"
   ]
  },
  {
   "cell_type": "code",
   "execution_count": null,
   "metadata": {},
   "outputs": [],
   "source": [
    "df_article = pd.concat([df_tr_article, df_tst_article])\n",
    "df_article.head()"
   ]
  },
  {
   "cell_type": "code",
   "execution_count": null,
   "metadata": {
    "collapsed": true
   },
   "outputs": [],
   "source": [
    "tr_article_list = df_tr_article['article_contentid'].values"
   ]
  },
  {
   "cell_type": "code",
   "execution_count": null,
   "metadata": {
    "collapsed": true
   },
   "outputs": [],
   "source": [
    "def getDetail(cat, field):\n",
    "    if (str(cat) != 'nan'):\n",
    "        if (len(cat) > 0):\n",
    "            return cat[0][field]\n",
    "    else:\n",
    "        return '0'"
   ]
  },
  {
   "cell_type": "code",
   "execution_count": null,
   "metadata": {},
   "outputs": [],
   "source": [
    "df_article['l1_cat'] = df_article.apply(lambda row: getDetail(row['article_l1_categories'],'name'), axis=1)\n",
    "df_article['l2_cat'] = df_article.apply(lambda row: getDetail(row['article_l2_categories'],'name'), axis=1)\n",
    "df_article['l1_cat_w'] = df_article.apply(lambda row: getDetail(row['article_l1_categories'],'weight'), axis=1)\n",
    "df_article['l2_cat_w'] = df_article.apply(lambda row: getDetail(row['article_l2_categories'],'weight'), axis=1)\n",
    "df_article = df_article.drop(['article_l1_categories', 'article_l2_categories'], axis=1)\n",
    "df_article.head()"
   ]
  },
  {
   "cell_type": "code",
   "execution_count": null,
   "metadata": {},
   "outputs": [],
   "source": [
    "df_article.shape"
   ]
  },
  {
   "cell_type": "code",
   "execution_count": null,
   "metadata": {
    "collapsed": true
   },
   "outputs": [],
   "source": []
  },
  {
   "cell_type": "code",
   "execution_count": null,
   "metadata": {
    "collapsed": true
   },
   "outputs": [],
   "source": [
    "df_article.drop(['article_title'], axis = 1).to_csv('data1202/df_article.csv')"
   ]
  },
  {
   "cell_type": "markdown",
   "metadata": {},
   "source": [
    "### Clean title"
   ]
  },
  {
   "cell_type": "raw",
   "metadata": {
    "collapsed": true
   },
   "source": [
    "#df_article = df_article[~df_article['article_title'].isnull()]\n",
    "#df_article.head()"
   ]
  },
  {
   "cell_type": "code",
   "execution_count": null,
   "metadata": {
    "collapsed": true
   },
   "outputs": [],
   "source": [
    "#skip\n",
    "\n",
    "from gensim.models import Word2Vec\n",
    "from nltk.corpus import stopwords\n",
    "from nltk import word_tokenize, pos_tag\n",
    "from nltk.stem.lancaster import LancasterStemmer\n",
    "import re\n"
   ]
  },
  {
   "cell_type": "code",
   "execution_count": null,
   "metadata": {
    "collapsed": true
   },
   "outputs": [],
   "source": [
    "def hashingTitle(title):\n",
    "    STEMMER = LancasterStemmer()\n",
    "    if (type(title) != float) & (type(title) != int):\n",
    "        title = title.lower()\n",
    "        title = word_tokenize(title)\n",
    "        title = \" \".join([STEMMER.stem(word.strip('!\"#$%&\\()*+,-./:;<=>?@[\\]^_`{|}~').lower()) for word in title])\n",
    "        title = pos_tag(title.split())\n",
    "        title = ([w[0] for w in title if w[1] in ['NN', 'NNP']])\n",
    "        titleList = []\n",
    "        for w in title:\n",
    "            if len(re.findall(\"[a-zA-Z]+\", w)) > 0:\n",
    "                f_w = re.findall(\"[a-zA-Z]+\", w)[0].lower()\n",
    "                f_w = '#'+f_w+'#'\n",
    "                f_w_tri = [f_w[i:i+3] for i in range(len(f_w)-1) if (len(f_w[i:i+3]) == 3)]\n",
    "                titleList.extend(f_w_tri)\n",
    "        return dict(Counter(titleList))\n",
    "    else:\n",
    "        return {}"
   ]
  },
  {
   "cell_type": "code",
   "execution_count": null,
   "metadata": {},
   "outputs": [],
   "source": [
    "df_article['clean_article_title'] = df_article.apply(lambda x: hashingTitle(x['article_title']), axis=1)\n",
    "df_article.head()"
   ]
  },
  {
   "cell_type": "code",
   "execution_count": null,
   "metadata": {},
   "outputs": [],
   "source": [
    "df_article_title = pd.DataFrame.from_records(df_article['clean_article_title'].tolist())\n",
    "df_article_title = df_article_title.fillna(0)\n",
    "df_article_title.head()"
   ]
  },
  {
   "cell_type": "code",
   "execution_count": null,
   "metadata": {},
   "outputs": [],
   "source": [
    "df_article = df_article.merge(df_article_title, how='left', left_index=True, right_index=True)\n",
    "df_article.head()"
   ]
  },
  {
   "cell_type": "code",
   "execution_count": null,
   "metadata": {},
   "outputs": [],
   "source": [
    "#df_article = df_article.drop(['article_title','clean_article_title'], axis=1)\n",
    "#Sophia commend : the following line is to be run if title is not included\n",
    "df_article = df_article.drop(['article_title'], axis=1)\n",
    "df_article = df_article.dropna()\n",
    "df_article.head()"
   ]
  },
  {
   "cell_type": "raw",
   "metadata": {},
   "source": [
    "#df_article = pd.get_dummies(df_article, columns=['article_publisher'])\n",
    "df_article = df_article.fillna(0)\n",
    "df_article.head()"
   ]
  },
  {
   "cell_type": "code",
   "execution_count": null,
   "metadata": {},
   "outputs": [],
   "source": [
    "df_cat = df_article[['l1_cat', 'l2_cat', 'l1_cat_w', 'l2_cat_w']]\n",
    "df_cat = pd.get_dummies(df_cat, columns=['l1_cat', 'l2_cat'])\n",
    "df_cat.head()"
   ]
  },
  {
   "cell_type": "code",
   "execution_count": null,
   "metadata": {},
   "outputs": [],
   "source": [
    "df_cat = df_cat.merge(df_article[['l1_cat', 'l2_cat']], how='left', left_index=True, right_index=True)\n",
    "df_cat.head()"
   ]
  },
  {
   "cell_type": "code",
   "execution_count": null,
   "metadata": {
    "collapsed": true
   },
   "outputs": [],
   "source": [
    "def updateCatWeight(row):\n",
    "    cat = row['l1_cat']\n",
    "    row['l1_cat_'+str(cat)] = row['l1_cat_w']\n",
    "    return row"
   ]
  },
  {
   "cell_type": "code",
   "execution_count": null,
   "metadata": {},
   "outputs": [],
   "source": [
    "df_cat = df_cat.apply(lambda row: updateCatWeight(row), axis=1)\n",
    "df_cat.head()"
   ]
  },
  {
   "cell_type": "code",
   "execution_count": null,
   "metadata": {},
   "outputs": [],
   "source": [
    "df_cat = df_cat.drop(['l1_cat','l2_cat','l1_cat_w', 'l2_cat_w'], axis=1)\n",
    "df_cat.head()"
   ]
  },
  {
   "cell_type": "code",
   "execution_count": null,
   "metadata": {},
   "outputs": [],
   "source": [
    "df_article = df_article.merge(df_cat, how='left', left_index=True, right_index=True)\n",
    "#sophia remark: commend here\n",
    "#df_article = df_article.drop(['article_publisher','article_title'], axis = 1)\n",
    "df_article.head()"
   ]
  },
  {
   "cell_type": "code",
   "execution_count": null,
   "metadata": {},
   "outputs": [],
   "source": [
    "df_article_2 = df_article.drop(['l1_cat','l2_cat','l1_cat_w','l2_cat_w'], axis = 1)\n",
    "df_article_2.shape"
   ]
  },
  {
   "cell_type": "code",
   "execution_count": null,
   "metadata": {
    "collapsed": true
   },
   "outputs": [],
   "source": [
    "df_tr_article_2=df_article_2[df_article_2['article_contentid'].isin(tr_article_list)].drop_duplicates(['article_contentid'])\n",
    "df_tst_article_2=df_article_2[df_article_2['article_contentid'].isin(tst_article_list)].drop_duplicates(['article_contentid'])"
   ]
  },
  {
   "cell_type": "code",
   "execution_count": null,
   "metadata": {
    "scrolled": true
   },
   "outputs": [],
   "source": [
    "print df_tr_article_2.shape\n",
    "df_tr_article_2 = df_tr_article_2[df_tr_article_2['user_id'] != 'na']\n",
    "df_tr_article_2.head()"
   ]
  },
  {
   "cell_type": "code",
   "execution_count": null,
   "metadata": {},
   "outputs": [],
   "source": [
    "print df_tst_article_2.shape\n",
    "df_tst_article_2 = df_tst_article_2.drop(['user_id'],axis = 1)\n",
    "df_tst_article_2.head()"
   ]
  },
  {
   "cell_type": "markdown",
   "metadata": {},
   "source": [
    "### Prepare Train Test Set"
   ]
  },
  {
   "cell_type": "code",
   "execution_count": null,
   "metadata": {},
   "outputs": [],
   "source": [
    "df_train_user_0 = df_tr_user_app\n",
    "df_test_user_0 = df_tst_user_app.fillna(0)\n",
    "df_tr_user_app.shape, df_tst_user_app.shape"
   ]
  },
  {
   "cell_type": "raw",
   "metadata": {},
   "source": [
    "a = df_train_user_0.drop(['user_id'], axis = 1).as_matrix()\n",
    "samples = list(a)\n",
    "neigh = NearestNeighbors(n_neighbors=1)\n",
    "neigh.fit(samples) \n",
    "\n",
    "#get the nearest user index - use for loop later\n",
    "print(neigh.kneighbors([samples[15]])) [1][0]"
   ]
  },
  {
   "cell_type": "raw",
   "metadata": {
    "collapsed": true
   },
   "source": [
    "def findNeighbor(row):\n",
    "    l = row.values\n",
    "    row['neibor'] = neigh.kneighbors([l]) [1][0][0]\n",
    "    return row"
   ]
  },
  {
   "cell_type": "raw",
   "metadata": {},
   "source": [
    "df_test_user_1 = df_test_user_0.drop(['user_id'],axis = 1).apply(lambda row: findNeighbor(row), axis = 1)#drop(['user_id'],axis = 1)\n",
    "df_test_user_1.head()"
   ]
  },
  {
   "cell_type": "raw",
   "metadata": {},
   "source": [
    "df_user_cat.head()"
   ]
  },
  {
   "cell_type": "raw",
   "metadata": {
    "collapsed": true
   },
   "source": [
    "df_train_user = df_train_user_0.merge(df_user_cat, how = 'left', on = 'user_id')"
   ]
  },
  {
   "cell_type": "raw",
   "metadata": {
    "collapsed": true
   },
   "source": [
    "art_cat_col = [i for i in df_train_user.columns if i not in df_train_user_0.columns]"
   ]
  },
  {
   "cell_type": "code",
   "execution_count": null,
   "metadata": {},
   "outputs": [],
   "source": [
    "user_fea_col = [i for i in df_train_user_0.columns \\\n",
    "                if i not in app_category and 'user_brand' not in i\\\n",
    "                and 'user_model' not in i  and 'article_contentid' != i]\n",
    "len(user_fea_col)"
   ]
  },
  {
   "cell_type": "raw",
   "metadata": {
    "collapsed": true
   },
   "source": [
    "test_col = [i for i in df_train_user.columns \\\n",
    "                if i not in app_category and 'user_maxmind_city' not in i]"
   ]
  },
  {
   "cell_type": "code",
   "execution_count": null,
   "metadata": {},
   "outputs": [],
   "source": [
    "df_test_user = df_test_user_0[user_fea_col]\n",
    "df_test_user.head()"
   ]
  },
  {
   "cell_type": "code",
   "execution_count": null,
   "metadata": {},
   "outputs": [],
   "source": [
    "df_train_user = df_train_user_0[user_fea_col]\n",
    "df_train_user.head()"
   ]
  },
  {
   "cell_type": "code",
   "execution_count": null,
   "metadata": {},
   "outputs": [],
   "source": [
    "df_test_user.shape, df_train_user.shape"
   ]
  },
  {
   "cell_type": "code",
   "execution_count": null,
   "metadata": {
    "collapsed": true,
    "scrolled": true
   },
   "outputs": [],
   "source": [
    "#df_train_user = df_user[df_user['user_id'].isin(final_train_user_id)]\n",
    "#df_train_user = df_train_user.drop(['user_id'], axis=1)\n",
    "#df_train_user_2 = df_train_user[user_fea_col].fillna(0)\n",
    "#df_train_user_arr = df_train_user_2.values\n",
    "#df_train_user_arr.shape"
   ]
  },
  {
   "cell_type": "code",
   "execution_count": null,
   "metadata": {
    "collapsed": true
   },
   "outputs": [],
   "source": [
    "#Sophia remark: get test user list\n",
    "#df_test_user0 = df_user[df_user['user_id'].isin(final_test_user_id)]"
   ]
  },
  {
   "cell_type": "code",
   "execution_count": null,
   "metadata": {},
   "outputs": [],
   "source": [
    "user_fea_col"
   ]
  },
  {
   "cell_type": "code",
   "execution_count": null,
   "metadata": {},
   "outputs": [],
   "source": [
    "#df_test_user = df_user[df_user['user_id'].isin(final_test_user_id)]\n",
    "#df_test_user = df_test_user.drop(['user_id'], axis=1)\n",
    "df_test_user_2 = df_test_user[user_fea_col].fillna(0)\n",
    "#df_test_user_2 = df_test_user.fillna(0)\n",
    "df_test_user_arr = df_test_user_2.values\n",
    "df_test_user_arr.shape"
   ]
  },
  {
   "cell_type": "code",
   "execution_count": null,
   "metadata": {},
   "outputs": [],
   "source": [
    "app_category"
   ]
  },
  {
   "cell_type": "code",
   "execution_count": null,
   "metadata": {},
   "outputs": [],
   "source": [
    "df_test_app0 = df_app2[df_app2['user_id'].isin(test_user_id)]\n",
    "df_test_app_2 = df_test_user_0[['user_id']].merge(df_test_app0, how = 'left', on = 'user_id')\n",
    "df_test_app_2.head()"
   ]
  },
  {
   "cell_type": "code",
   "execution_count": null,
   "metadata": {},
   "outputs": [],
   "source": [
    "#Question: test user without app category\n",
    "df_test_app_2 = df_test_app_2.fillna(0.01)\n",
    "df_test_app_arr = df_test_app_2.values\n",
    "df_test_app_arr.shape"
   ]
  },
  {
   "cell_type": "code",
   "execution_count": null,
   "metadata": {},
   "outputs": [],
   "source": [
    "df_test_user_2 = df_test_user_2.merge(df_test_app_2, how = 'left', on = 'user_id')\n",
    "#df_test_user_2 = df_test_user_2.drop(['user_id'],axis = 1)\n",
    "df_test_user_arr = df_test_user_2.values\n",
    "df_test_user_arr.shape"
   ]
  },
  {
   "cell_type": "code",
   "execution_count": null,
   "metadata": {
    "collapsed": true
   },
   "outputs": [],
   "source": [
    "# may need to do sampling on df_ua_map\n",
    "###sophia 20171201\n",
    "#df_ua_map = df_ua_map.sample(frac=0.3, replace=False)"
   ]
  },
  {
   "cell_type": "code",
   "execution_count": null,
   "metadata": {},
   "outputs": [],
   "source": [
    "len(df_ua_map)"
   ]
  },
  {
   "cell_type": "raw",
   "metadata": {},
   "source": [
    "df_ua_map.head()"
   ]
  },
  {
   "cell_type": "code",
   "execution_count": null,
   "metadata": {
    "collapsed": true
   },
   "outputs": [],
   "source": [
    "#df_train_user = df_train_user_0.merge(df_user_cat, how = 'left', on = 'user_id')"
   ]
  },
  {
   "cell_type": "code",
   "execution_count": null,
   "metadata": {
    "collapsed": true
   },
   "outputs": [],
   "source": [
    "df_final_train_user_article = df_ua_map[(df_ua_map['user_id'].isin(train_user_id))]\n",
    "df_final_train_user_article = df_final_train_user_article.merge(df_train_user[user_fea_col], how = 'left', on = 'user_id')"
   ]
  },
  {
   "cell_type": "code",
   "execution_count": null,
   "metadata": {},
   "outputs": [],
   "source": [
    "print (df_final_train_user_article.shape)\n",
    "df_final_train_user_article.head()"
   ]
  },
  {
   "cell_type": "code",
   "execution_count": null,
   "metadata": {},
   "outputs": [],
   "source": [
    "df_final_train_user_article = df_final_train_user_article.merge(df_tr_article_2.drop(['user_id'],axis = 1), how = 'left', on = 'article_contentid')\n",
    "df_final_train_user_article.head()"
   ]
  },
  {
   "cell_type": "code",
   "execution_count": null,
   "metadata": {},
   "outputs": [],
   "source": [
    "df_final_train_user_article.shape"
   ]
  },
  {
   "cell_type": "raw",
   "metadata": {
    "collapsed": true
   },
   "source": [
    "df_train_ua_map = df_ua_map[df_ua_map['user_id'].isin(train_user_id)]\n",
    "df_train_ua_map = df_train_ua_map.merge(df_train_user[test_col], how = 'left', on = 'user_id')"
   ]
  },
  {
   "cell_type": "raw",
   "metadata": {},
   "source": [
    "print (df_train_ua_map.shape)\n",
    "df_train_ua_map.head()\n",
    "#df_train_user_2 = df_train_ua_map.drop(['user_id','article_contentid'], axis = 1)"
   ]
  },
  {
   "cell_type": "raw",
   "metadata": {},
   "source": [
    "df_train_ua_map = df_train_ua_map.merge(df_tr_article_2.drop(['user_id'],axis = 1), how = 'left', on = 'article_contentid')\n",
    "df_train_ua_map.head()"
   ]
  },
  {
   "cell_type": "raw",
   "metadata": {},
   "source": [
    "df_train_ua_map.shape"
   ]
  },
  {
   "cell_type": "raw",
   "metadata": {},
   "source": [
    "df_old_user_article = df_ua_map[df_ua_map['user_id'].isin(old_user_id)]\n",
    "df_old_user_article = df_old_user_article.merge(df_train_user[test_col], how = 'left', on = 'user_id')\n",
    "df_old_user_article.head()"
   ]
  },
  {
   "cell_type": "raw",
   "metadata": {},
   "source": [
    "df_old_user_article = df_old_user_article.merge(df_article_2.drop(['user_id'],axis = 1), how = 'left', on = 'article_contentid')\n",
    "df_old_user_article.head()"
   ]
  },
  {
   "cell_type": "raw",
   "metadata": {
    "collapsed": true,
    "scrolled": true
   },
   "source": [
    "#df_old_user_article = df_ua_map[df_ua_map['user_id'].isin(old_user_id)]\n",
    "#df_old_user_article = df_old_user_article.merge(df_train_user[test_col], how = 'left', on = 'user_id')\n",
    "#df_old_user_article = df_old_user_article.drop_duplicates(subset=['user_id', 'article_contentid'], keep='first').reset_index(drop=True)\n",
    "#df_old_user_article = df_old_user_article.sort_values('user_id').reset_index(drop=True)\n",
    "#df_old_user_article = df_old_user_article.merge(df_article.drop(['user_id'],axis = 1), how = 'left', on = 'article_contentid')\n",
    "#df_old_user_article.head()"
   ]
  },
  {
   "cell_type": "raw",
   "metadata": {
    "scrolled": true
   },
   "source": [
    "df_old_user_article = df_old_user_article.iloc[[i for i in df_old_user_article.index if i%2 == 0]].reset_index(drop=True)\n",
    "df_old_user_article.head()"
   ]
  },
  {
   "cell_type": "raw",
   "metadata": {},
   "source": [
    "df_train_ua_map.shape"
   ]
  },
  {
   "cell_type": "raw",
   "metadata": {},
   "source": [
    "df_old_user_article.shape"
   ]
  },
  {
   "cell_type": "code",
   "execution_count": null,
   "metadata": {
    "collapsed": true
   },
   "outputs": [],
   "source": [
    "#df_final_train_user_article.dropna().shape"
   ]
  },
  {
   "cell_type": "raw",
   "metadata": {},
   "source": [
    "df_final_train_user_article = pd.concat([df_train_ua_map, df_old_user_article])\n",
    "df_final_train_user_article.head()"
   ]
  },
  {
   "cell_type": "code",
   "execution_count": null,
   "metadata": {
    "collapsed": true
   },
   "outputs": [],
   "source": [
    "#df_final_train = df_final_train_user_article.merge(df_user, how='left', on='user_id')\n",
    "df_final_train = df_final_train_user_article.dropna()\n",
    "#sophia remark: add app data\n",
    "#df_final_train = df_final_train.merge(df_app2, how='left', on='user_id')"
   ]
  },
  {
   "cell_type": "code",
   "execution_count": null,
   "metadata": {},
   "outputs": [],
   "source": [
    "df_final_train.shape"
   ]
  },
  {
   "cell_type": "code",
   "execution_count": null,
   "metadata": {
    "collapsed": true
   },
   "outputs": [],
   "source": [
    "df_final_train = df_final_train.merge(df_app2, how='left', on='user_id')\n",
    "###sophia remark, check wether there is NAN or all 0 here\n",
    "#df_final_train = df_final_train.dropna()\n",
    "#df_final_train.head()"
   ]
  },
  {
   "cell_type": "code",
   "execution_count": null,
   "metadata": {},
   "outputs": [],
   "source": [
    "df_final_train.shape"
   ]
  },
  {
   "cell_type": "code",
   "execution_count": null,
   "metadata": {},
   "outputs": [],
   "source": [
    "article_feature = [i for i in df_final_train.columns if 'user_' not in i and i not in ['article_contentid',\n",
    " 'article_title',\n",
    " 'article_publisher',\n",
    " 'l1_cat',\n",
    " 'l2_cat',\n",
    " 'l1_cat_w',\n",
    " 'l2_cat_w',\n",
    " 'l1_cat_w_x',\n",
    " 'l2_cat_w_x',\n",
    " 'l1_cat_w_y',\n",
    " 'l2_cat_w_y',\n",
    " 'totalCat'] and i not in app_category]\n",
    "#article_feature = \n",
    "article_feature"
   ]
  },
  {
   "cell_type": "code",
   "execution_count": null,
   "metadata": {},
   "outputs": [],
   "source": [
    "uapp_feature = [i for i in df_test_user_2.columns if i not in article_feature]\n",
    "len(uapp_feature)"
   ]
  },
  {
   "cell_type": "code",
   "execution_count": null,
   "metadata": {},
   "outputs": [],
   "source": [
    "df_train_user = df_final_train[uapp_feature]\n",
    "df_train_user.head()"
   ]
  },
  {
   "cell_type": "code",
   "execution_count": null,
   "metadata": {},
   "outputs": [],
   "source": [
    "df_train_app = df_final_train[app_category]\n",
    "df_train_app.head()"
   ]
  },
  {
   "cell_type": "code",
   "execution_count": null,
   "metadata": {},
   "outputs": [],
   "source": [
    "df_train_article = df_final_train[article_feature]\n",
    "df_train_article.head()"
   ]
  },
  {
   "cell_type": "code",
   "execution_count": null,
   "metadata": {
    "collapsed": true
   },
   "outputs": [],
   "source": [
    "df_test_article = df_tst_article_2[article_feature]\n",
    "#df_test_article.shape"
   ]
  },
  {
   "cell_type": "code",
   "execution_count": null,
   "metadata": {
    "collapsed": true
   },
   "outputs": [],
   "source": [
    "article_feature.append(u'article_contentid')\n",
    "#len(article_feature)"
   ]
  },
  {
   "cell_type": "code",
   "execution_count": null,
   "metadata": {},
   "outputs": [],
   "source": [
    "df_test_article0 = df_tst_article_2.drop_duplicates(subset=['article_contentid'], keep='first')#[article_feature]\n",
    "df_test_article0.head()"
   ]
  },
  {
   "cell_type": "code",
   "execution_count": null,
   "metadata": {
    "collapsed": true
   },
   "outputs": [],
   "source": [
    "df_test_article_arr1 = df_test_article.values"
   ]
  },
  {
   "cell_type": "code",
   "execution_count": null,
   "metadata": {},
   "outputs": [],
   "source": [
    "y_train = [1 for i in range(len(df_train_user.values))]\n",
    "len(y_train)"
   ]
  },
  {
   "cell_type": "markdown",
   "metadata": {},
   "source": [
    "### Build Model By Keras (User Vs App Vs Article)"
   ]
  },
  {
   "cell_type": "code",
   "execution_count": null,
   "metadata": {
    "collapsed": true
   },
   "outputs": [],
   "source": [
    "df_train_user_arr = df_train_user.values\n",
    "df_train_app_arr = df_train_app.values"
   ]
  },
  {
   "cell_type": "code",
   "execution_count": null,
   "metadata": {},
   "outputs": [],
   "source": [
    "df_train_user_arr.shape, df_train_app_arr.shape"
   ]
  },
  {
   "cell_type": "code",
   "execution_count": null,
   "metadata": {},
   "outputs": [],
   "source": [
    "df_train_article.shape"
   ]
  },
  {
   "cell_type": "code",
   "execution_count": null,
   "metadata": {
    "collapsed": true
   },
   "outputs": [],
   "source": [
    "df_train_article_arr = df_train_article.values\n",
    "df_train_article_arr.shape"
   ]
  },
  {
   "cell_type": "raw",
   "metadata": {},
   "source": [
    "#y_train = [1 for i in range(len(df_train_user))]\n",
    "#len(y_train)"
   ]
  },
  {
   "cell_type": "code",
   "execution_count": null,
   "metadata": {
    "scrolled": true
   },
   "outputs": [],
   "source": [
    "from keras.models import Sequential, Model\n",
    "from keras.layers import Dense, Merge, Activation, Dropout, Reshape"
   ]
  },
  {
   "cell_type": "code",
   "execution_count": null,
   "metadata": {
    "collapsed": true
   },
   "outputs": [],
   "source": [
    "# create user model\n",
    "userModel1 = Sequential()\n",
    "userModel1.add(Dense(500, input_shape=(2394,)))\n",
    "userModel1.add(Activation('tanh'))\n",
    "userModel1.add(Dropout(0.4))\n",
    "userModel1.add(Dense(50, input_shape=(500,)))\n",
    "userModel1.add(Activation('tanh'))\n",
    "userModel1.add(Dropout(0.4))\n",
    "userModel1.add(Dense(30, input_shape=(50,)))\n",
    "userModel1.add(Activation('tanh'))\n",
    "userModel1.add(Dropout(0.4))\n",
    "userModel1.add(Dense(10, input_shape=(30,)))\n",
    "userModel1.add(Activation('tanh'))\n",
    "userModel1.add(Reshape((10,1)))"
   ]
  },
  {
   "cell_type": "code",
   "execution_count": null,
   "metadata": {
    "collapsed": true
   },
   "outputs": [],
   "source": [
    "# create article model\n",
    "articleModel = Sequential()\n",
    "articleModel.add(Dense(50, input_shape=(187,)))\n",
    "articleModel.add(Activation('tanh'))\n",
    "articleModel.add(Dropout(0.4))\n",
    "articleModel.add(Dense(30, input_shape=(50,)))\n",
    "articleModel.add(Activation('tanh'))\n",
    "articleModel.add(Dropout(0.4))\n",
    "articleModel.add(Dense(10, input_shape=(30,)))\n",
    "articleModel.add(Activation('tanh'))\n",
    "articleModel.add(Reshape((10,1)))"
   ]
  },
  {
   "cell_type": "code",
   "execution_count": null,
   "metadata": {
    "collapsed": true
   },
   "outputs": [],
   "source": [
    "model1 = Sequential()\n",
    "model1.add(Merge([userModel1,articleModel], mode='cos', dot_axes=1, output_shape=(2,)))\n",
    "model1.add(Reshape((1,)))"
   ]
  },
  {
   "cell_type": "raw",
   "metadata": {
    "collapsed": true
   },
   "source": [
    "# create user model 2\n",
    "userModel2 = Sequential()\n",
    "userModel2.add(Dense(30, input_shape=(53,)))\n",
    "userModel2.add(Activation('tanh'))\n",
    "userModel2.add(Dropout(0.4))\n",
    "userModel2.add(Dense(10, input_shape=(30,)))\n",
    "userModel2.add(Activation('tanh'))\n",
    "userModel2.add(Reshape((10,1)))"
   ]
  },
  {
   "cell_type": "raw",
   "metadata": {
    "collapsed": true
   },
   "source": [
    "model2 = Sequential()\n",
    "model2.add(Merge([userModel2,articleModel], mode='cos', dot_axes=1, output_shape=(1,)))\n",
    "model2.add(Reshape((1,)))"
   ]
  },
  {
   "cell_type": "raw",
   "metadata": {
    "collapsed": true
   },
   "source": [
    "model=Sequential()\n",
    "model.add(Merge([model1,model2],mode='concat'))\n",
    "model.add(Dense(1, input_shape=(2,)))\n",
    "model.add(Reshape((1,)))\n",
    "#model.add(Activation('normalization'))\n",
    "#model.add(Reshape(1,))\n",
    "#model.add(Activation('softmax'))"
   ]
  },
  {
   "cell_type": "code",
   "execution_count": null,
   "metadata": {
    "collapsed": true
   },
   "outputs": [],
   "source": [
    "# Compile model\n",
    "model1.compile(loss='cosine_proximity', optimizer='adam', metrics=['accuracy'])"
   ]
  },
  {
   "cell_type": "code",
   "execution_count": null,
   "metadata": {},
   "outputs": [],
   "source": [
    "len(df_test_article_arr1)"
   ]
  },
  {
   "cell_type": "code",
   "execution_count": null,
   "metadata": {},
   "outputs": [],
   "source": [
    "model1.fit([df_train_user_arr ,df_train_article_arr] ,y_train, nb_epoch=1, batch_size=32)"
   ]
  },
  {
   "cell_type": "code",
   "execution_count": null,
   "metadata": {
    "collapsed": true
   },
   "outputs": [],
   "source": [
    "model1.fit([df_train_user_arr ,df_train_article_arr] ,y_train, nb_epoch=1, batch_size=32)"
   ]
  },
  {
   "cell_type": "code",
   "execution_count": null,
   "metadata": {
    "collapsed": true
   },
   "outputs": [],
   "source": [
    "# Compile model 1\n",
    "#model1.compile(loss='cosine_proximity', optimizer='adam', metrics=['accuracy','precision','recall'])\n",
    "#model1.fit([df_train_user_arr ,df_train_article_arr] ,y_train, nb_epoch=1, batch_size=32)\n",
    "\n",
    "# Compile model 2\n",
    "#model2.compile(loss='cosine_proximity', optimizer='adam', metrics=['accuracy','precision','recall'])\n",
    "#model2.fit([df_train_app_arr ,df_train_article_arr] ,y_train, nb_epoch=1, batch_size=32)"
   ]
  },
  {
   "cell_type": "code",
   "execution_count": null,
   "metadata": {
    "collapsed": true
   },
   "outputs": [],
   "source": [
    "#y_pred = model.predict([df_test_user,df_test_article_arr1, df_test_app], batch_size=32, verbose=0)\n",
    "#y_pred_1 = np.hstack(y_pred)\n",
    "#np.argsort(y_pred_1)[:100]"
   ]
  },
  {
   "cell_type": "markdown",
   "metadata": {},
   "source": [
    "### Calculate precision and recall"
   ]
  },
  {
   "cell_type": "code",
   "execution_count": null,
   "metadata": {},
   "outputs": [],
   "source": [
    "df_test_user_arr1 = df_test_user.values\n",
    "df_test_user_arr1.shape"
   ]
  },
  {
   "cell_type": "code",
   "execution_count": null,
   "metadata": {
    "collapsed": true
   },
   "outputs": [],
   "source": [
    "#sophia remark get the mapping of user article\n",
    "#df_ua_map = df_trData[['user_id', 'article_contentid']]\n",
    "\n",
    "#Sophia remark: get test user list\n",
    "#df_test_user0 = df_user[df_user['user_id'].isin(final_test_user_id)]\n",
    "#df_test_user = df_user[df_user['user_id'].isin(final_test_user_id)]\n",
    "#df_test_user = df_test_user.drop(['user_id'], axis=1)\n",
    "#df_test_user = df_test_user.fillna(0)\n",
    "#df_test_user_arr1 = df_test_user[user_fea_col].values\n",
    "#df_test_user_arr1.shape\n",
    "\n",
    "#Sophia remark: get test app list\n",
    "#df_test_app0 = df_app2[df_app2['user_id'].isin(test_user_id)]\n",
    "#df_test_app = df_user[df_user['user_id'].isin(test_user_id)].merge(df_test_app0, how = 'left', on = 'user_id')[app_category]\n",
    "#df_test_app = df_test_app.fillna(0)\n",
    "#df_test_app_arr1 = df_test_app.values\n",
    "#df_test_app_arr1.shape\n",
    "\n",
    "#sophia remark: get article list\n",
    "#df_test_article0 = df_tst_article.drop_duplicates(subset=['article_contentid'], keep='first')#[article_feature]\n",
    "#df_test_article0.head()\n",
    "col = df_train_article.columns\n",
    "df_test_article_arr1 = df_test_article[col].values"
   ]
  },
  {
   "cell_type": "code",
   "execution_count": null,
   "metadata": {},
   "outputs": [],
   "source": [
    "df_test_article[col].shape"
   ]
  },
  {
   "cell_type": "code",
   "execution_count": null,
   "metadata": {},
   "outputs": [],
   "source": [
    "print df_test_article[col].shape\n",
    "df_test_article[col].head()"
   ]
  },
  {
   "cell_type": "code",
   "execution_count": null,
   "metadata": {},
   "outputs": [],
   "source": [
    "#df_train_article.head()"
   ]
  },
  {
   "cell_type": "code",
   "execution_count": null,
   "metadata": {},
   "outputs": [],
   "source": [
    "df_test_article_arr1.shape"
   ]
  },
  {
   "cell_type": "code",
   "execution_count": null,
   "metadata": {},
   "outputs": [],
   "source": [
    "#df_test_app_arr1.shape"
   ]
  },
  {
   "cell_type": "raw",
   "metadata": {},
   "source": [
    "t_u = df_test_user[user_fea_col]\n",
    "t_u = t_u.reset_index(drop=True)\n",
    "t_u.head()"
   ]
  },
  {
   "cell_type": "code",
   "execution_count": null,
   "metadata": {
    "collapsed": true
   },
   "outputs": [],
   "source": [
    "df_test_user0 = df_tst_user"
   ]
  },
  {
   "cell_type": "code",
   "execution_count": null,
   "metadata": {
    "collapsed": true
   },
   "outputs": [],
   "source": [
    "#df_test_article_arr1[0:5]"
   ]
  },
  {
   "cell_type": "code",
   "execution_count": null,
   "metadata": {},
   "outputs": [],
   "source": [
    "l = len(df_test_article_arr1)\n",
    "uid = df_test_user0['user_id'].tolist()[0]\n",
    "user = np.array([df_test_user_arr1[0]]*l)\n",
    "user\n",
    "app = np.array([df_test_app_arr1[0]]*l)\n",
    "#apply user and article array to do predict\n",
    "up = pd.DataFrame(model.predict([user,df_test_article_arr1,app], batch_size=32))\n",
    "df_test_article1=df_test_article0.reset_index(drop = True)\\\n",
    "                            .merge(up, how = 'left', left_index=True, right_index=True)\\\n",
    "                            .rename(columns={0:'u0_score'})[['article_contentid', 'u0_score']]\n",
    "df_test_article1 = df_test_article1.sort_values(by='u0_score', ascending=False)\n",
    "df_test_article1['y_pred'] = 0\n",
    "df_test_article1[:5]['y_pred']=1\n",
    "top5_art = df_test_article1[:5]['article_contentid'].values\n",
    "\n",
    "\n",
    "top5_art"
   ]
  },
  {
   "cell_type": "code",
   "execution_count": null,
   "metadata": {},
   "outputs": [],
   "source": [
    "l = len(df_test_article_arr1)\n",
    "dic = {}\n",
    "for idx, user in enumerate(df_test_user_arr1):\n",
    "    #for each user-article pair: get the user id and user info\n",
    "    uid = df_test_user0['user_id'].tolist()[idx]\n",
    "    user = np.array([df_test_user_arr1[idx]]*l)\n",
    "    app = np.array([df_test_app_arr1[idx]]*l)\n",
    "    #apply user and article array to do predict\n",
    "    up = pd.DataFrame(model.predict([user,df_test_article_arr1, app], batch_size=32))\n",
    "    df_test_article1=df_test_article0.reset_index(drop = True)\\\n",
    "                            .merge(up, how = 'left', left_index=True, right_index=True)\\\n",
    "                            .rename(columns={0:'u0_score'})[['article_contentid', 'u0_score']]\n",
    "    df_test_article1 = df_test_article1.drop_duplicates(['article_contentid'])\n",
    "    df_test_article1 = df_test_article1.sort_values(by='u0_score', ascending=False)\n",
    "    #df_test_article1['y_pred'] = 0\n",
    "    dic[uid] = df_test_article1[:5]['article_contentid']\n",
    "    print uid, \":\", dic[uid].tolist()\n"
   ]
  },
  {
   "cell_type": "code",
   "execution_count": null,
   "metadata": {},
   "outputs": [],
   "source": [
    "l = len(df_test_article_arr1)\n",
    "precision = list()\n",
    "recall = list()\n",
    "\n",
    "for idx, user in enumerate(df_test_user_arr1):\n",
    "    if idx > 6:\n",
    "        break;\n",
    "    #for each user-article pair: get the user id and user info\n",
    "    uid = df_test_user0['user_id'].tolist()[idx]\n",
    "    user = np.array([df_test_user_arr1[idx]]*l)\n",
    "    app = np.array([df_test_app_arr1[idx]]*l)\n",
    "    #apply user and article array to do predict\n",
    "    up = pd.DataFrame(model.predict([user,df_test_article_arr1, app], batch_size=32))\n",
    "    df_test_article1=df_test_article0.reset_index(drop = True)\\\n",
    "                            .merge(up, how = 'left', left_index=True, right_index=True)\\\n",
    "                            .rename(columns={0:'u0_score'})[['article_contentid', 'u0_score']]\n",
    "    df_test_article1 = df_test_article1.sort_values(by='u0_score', ascending=False)\n",
    "    df_test_article1['y_pred'] = 0\n",
    "    df_test_article1[:5]['y_pred']=1\n",
    "    df_match = df_ua_map[df_ua_map['user_id'] == uid][['article_contentid']]\n",
    "    df_match['y_true'] = 1\n",
    "    df_test_article1 = df_test_article1.merge(df_match, how = 'left', on = 'article_contentid')\\\n",
    "                                       .fillna(0)\n",
    "    tp = df_test_article1[(df_test_article1['y_pred'] == 1) & (df_test_article1['y_true'] == 1)].shape[0]\n",
    "    fp = df_test_article1[(df_test_article1['y_pred'] == 1) & (df_test_article1['y_true'] == 0)].shape[0]\n",
    "    fn = df_test_article1[(df_test_article1['y_pred'] == 0) & (df_test_article1['y_true'] == 1)].shape[0]\n",
    "\n",
    "    p = tp/(float(tp+fp))\n",
    "    r = tp/(float(tp+fn))\n",
    "    print (idx, uid, p,r)\n",
    "    if p != 0:\n",
    "        precision.append(p)\n",
    "    if r != 0:\n",
    "        recall.append(r)\n",
    "    \n",
    "print (precision, recall)"
   ]
  },
  {
   "cell_type": "code",
   "execution_count": null,
   "metadata": {
    "collapsed": true
   },
   "outputs": [],
   "source": [
    "df_test_article1.head()"
   ]
  },
  {
   "cell_type": "code",
   "execution_count": null,
   "metadata": {
    "collapsed": true,
    "scrolled": true
   },
   "outputs": [],
   "source": [
    "df_test_article1[df_test_article1['article_contentid'].isin(list(df_trData[df_trData['user_id'] == 'B3B51127D5FB5B39E4273BE65CACA28C']['article_contentid']))]"
   ]
  },
  {
   "cell_type": "code",
   "execution_count": null,
   "metadata": {
    "collapsed": true
   },
   "outputs": [],
   "source": [
    "df_ua_map[df_ua_map['user_id'] == '5BA72C11B1E94BA50F1E66F4B1362CE6']"
   ]
  },
  {
   "cell_type": "code",
   "execution_count": null,
   "metadata": {
    "collapsed": true
   },
   "outputs": [],
   "source": [
    "list(df_trData[df_trData['user_id'] == '5BA72C11B1E94BA50F1E66F4B1362CE6']['article_contentid'])"
   ]
  },
  {
   "cell_type": "code",
   "execution_count": null,
   "metadata": {
    "collapsed": true
   },
   "outputs": [],
   "source": [
    "t_u.head()"
   ]
  },
  {
   "cell_type": "code",
   "execution_count": null,
   "metadata": {
    "collapsed": true
   },
   "outputs": [],
   "source": [
    "t_u['index'] = t_u.index\n",
    "t_u_group = t_u.groupby(by=[i for i in t_u.columns if i != 'index']).agg({'index':'nunique'}).reset_index(drop=True)\n",
    "t_u_group = t_u_group.sort_values(by=['index'], ascending=False)\n",
    "t_u_group.head()"
   ]
  },
  {
   "cell_type": "markdown",
   "metadata": {
    "collapsed": true
   },
   "source": [
    "# Deal with test data"
   ]
  },
  {
   "cell_type": "code",
   "execution_count": null,
   "metadata": {
    "collapsed": true
   },
   "outputs": [],
   "source": [
    "# get df_test_user"
   ]
  },
  {
   "cell_type": "code",
   "execution_count": null,
   "metadata": {
    "collapsed": true
   },
   "outputs": [],
   "source": [
    "# get df_test_app"
   ]
  },
  {
   "cell_type": "code",
   "execution_count": null,
   "metadata": {
    "collapsed": true
   },
   "outputs": [],
   "source": [
    "# get df_test_article"
   ]
  },
  {
   "cell_type": "code",
   "execution_count": null,
   "metadata": {
    "collapsed": true
   },
   "outputs": [],
   "source": [
    "'''\n",
    "for idx, user in enumerate(df_test_user_arr2):\n",
    "    if idx > 3:\n",
    "        break;\n",
    "     #for each user-article pair: get the user id and user info\n",
    "    uid = df_test_user2['user_id'].tolist()[idx]\n",
    "    user = np.array([df_test_user_arr2[idx]]*l)\n",
    "    app = np.array([df_test_app_arr2[idx]]*l)\n",
    "    \n",
    "    #apply user and article array to do predict\n",
    "    up = pd.DataFrame(model.predict([user,df_test_article_arr2, app], batch_size=32, verbose=0))\n",
    "    df_test_article1=df_test_article0.reset_index(drop = True)\\\n",
    "                            .merge(up, how = 'left', left_index=True, right_index=True)\\\n",
    "                            .rename(columns={0:'u0_score'})[['article_contentid', 'u0_score']]\n",
    "    df_test_article1 = df_test_article1.sort_values(by='u0_score', ascending=False)\n",
    "    df_test_article1[:5]\n",
    "'''"
   ]
  }
 ],
 "metadata": {
  "anaconda-cloud": {},
  "kernelspec": {
   "display_name": "Python 2",
   "language": "python",
   "name": "python2"
  },
  "language_info": {
   "codemirror_mode": {
    "name": "ipython",
    "version": 2
   },
   "file_extension": ".py",
   "mimetype": "text/x-python",
   "name": "python",
   "nbconvert_exporter": "python",
   "pygments_lexer": "ipython2",
   "version": "2.7.14"
  }
 },
 "nbformat": 4,
 "nbformat_minor": 1
}
